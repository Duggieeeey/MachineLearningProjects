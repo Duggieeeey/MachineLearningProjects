{
 "cells": [
  {
   "cell_type": "code",
   "execution_count": 1,
   "id": "02af1e1d-ecd4-4dca-b5c7-c33a3d1a977e",
   "metadata": {},
   "outputs": [
    {
     "name": "stdout",
     "output_type": "stream",
     "text": [
      "Requirement already satisfied: tensorflow in c:\\users\\withm\\miniconda3\\lib\\site-packages (2.10.0)\n",
      "Requirement already satisfied: gast<=0.4.0,>=0.2.1 in c:\\users\\withm\\miniconda3\\lib\\site-packages (from tensorflow) (0.4.0)\n",
      "Requirement already satisfied: grpcio<2.0,>=1.24.3 in c:\\users\\withm\\miniconda3\\lib\\site-packages (from tensorflow) (1.50.0)\n",
      "Requirement already satisfied: tensorboard<2.11,>=2.10 in c:\\users\\withm\\miniconda3\\lib\\site-packages (from tensorflow) (2.10.1)\n",
      "Requirement already satisfied: tensorflow-io-gcs-filesystem>=0.23.1 in c:\\users\\withm\\miniconda3\\lib\\site-packages (from tensorflow) (0.27.0)\n",
      "Requirement already satisfied: opt-einsum>=2.3.2 in c:\\users\\withm\\miniconda3\\lib\\site-packages (from tensorflow) (3.3.0)\n",
      "Requirement already satisfied: keras-preprocessing>=1.1.1 in c:\\users\\withm\\miniconda3\\lib\\site-packages (from tensorflow) (1.1.2)\n",
      "Requirement already satisfied: six>=1.12.0 in c:\\users\\withm\\miniconda3\\lib\\site-packages (from tensorflow) (1.16.0)\n",
      "Requirement already satisfied: tensorflow-estimator<2.11,>=2.10.0 in c:\\users\\withm\\miniconda3\\lib\\site-packages (from tensorflow) (2.10.0)\n",
      "Requirement already satisfied: setuptools in c:\\users\\withm\\miniconda3\\lib\\site-packages (from tensorflow) (61.2.0)\n",
      "Requirement already satisfied: google-pasta>=0.1.1 in c:\\users\\withm\\miniconda3\\lib\\site-packages (from tensorflow) (0.2.0)\n",
      "Requirement already satisfied: protobuf<3.20,>=3.9.2 in c:\\users\\withm\\miniconda3\\lib\\site-packages (from tensorflow) (3.19.6)\n",
      "Requirement already satisfied: flatbuffers>=2.0 in c:\\users\\withm\\miniconda3\\lib\\site-packages (from tensorflow) (22.10.26)\n",
      "Requirement already satisfied: packaging in c:\\users\\withm\\miniconda3\\lib\\site-packages (from tensorflow) (21.3)\n",
      "Requirement already satisfied: h5py>=2.9.0 in c:\\users\\withm\\miniconda3\\lib\\site-packages (from tensorflow) (3.7.0)\n",
      "Requirement already satisfied: absl-py>=1.0.0 in c:\\users\\withm\\miniconda3\\lib\\site-packages (from tensorflow) (1.3.0)\n",
      "Requirement already satisfied: astunparse>=1.6.0 in c:\\users\\withm\\miniconda3\\lib\\site-packages (from tensorflow) (1.6.3)\n",
      "Requirement already satisfied: wrapt>=1.11.0 in c:\\users\\withm\\miniconda3\\lib\\site-packages (from tensorflow) (1.14.1)\n",
      "Requirement already satisfied: numpy>=1.20 in c:\\users\\withm\\miniconda3\\lib\\site-packages (from tensorflow) (1.23.4)\n",
      "Requirement already satisfied: termcolor>=1.1.0 in c:\\users\\withm\\miniconda3\\lib\\site-packages (from tensorflow) (2.1.0)\n",
      "Requirement already satisfied: typing-extensions>=3.6.6 in c:\\users\\withm\\miniconda3\\lib\\site-packages (from tensorflow) (4.4.0)\n",
      "Requirement already satisfied: keras<2.11,>=2.10.0 in c:\\users\\withm\\miniconda3\\lib\\site-packages (from tensorflow) (2.10.0)\n",
      "Requirement already satisfied: libclang>=13.0.0 in c:\\users\\withm\\miniconda3\\lib\\site-packages (from tensorflow) (14.0.6)\n",
      "Requirement already satisfied: wheel<1.0,>=0.23.0 in c:\\users\\withm\\miniconda3\\lib\\site-packages (from astunparse>=1.6.0->tensorflow) (0.37.1)\n",
      "Requirement already satisfied: requests<3,>=2.21.0 in c:\\users\\withm\\miniconda3\\lib\\site-packages (from tensorboard<2.11,>=2.10->tensorflow) (2.27.1)\n",
      "Requirement already satisfied: google-auth<3,>=1.6.3 in c:\\users\\withm\\miniconda3\\lib\\site-packages (from tensorboard<2.11,>=2.10->tensorflow) (2.14.1)\n",
      "Requirement already satisfied: tensorboard-plugin-wit>=1.6.0 in c:\\users\\withm\\miniconda3\\lib\\site-packages (from tensorboard<2.11,>=2.10->tensorflow) (1.8.1)\n",
      "Requirement already satisfied: markdown>=2.6.8 in c:\\users\\withm\\miniconda3\\lib\\site-packages (from tensorboard<2.11,>=2.10->tensorflow) (3.4.1)\n",
      "Requirement already satisfied: tensorboard-data-server<0.7.0,>=0.6.0 in c:\\users\\withm\\miniconda3\\lib\\site-packages (from tensorboard<2.11,>=2.10->tensorflow) (0.6.1)\n",
      "Requirement already satisfied: google-auth-oauthlib<0.5,>=0.4.1 in c:\\users\\withm\\miniconda3\\lib\\site-packages (from tensorboard<2.11,>=2.10->tensorflow) (0.4.6)\n",
      "Requirement already satisfied: werkzeug>=1.0.1 in c:\\users\\withm\\miniconda3\\lib\\site-packages (from tensorboard<2.11,>=2.10->tensorflow) (2.2.2)\n",
      "Requirement already satisfied: pyparsing!=3.0.5,>=2.0.2 in c:\\users\\withm\\miniconda3\\lib\\site-packages (from packaging->tensorflow) (3.0.9)\n",
      "Requirement already satisfied: cachetools<6.0,>=2.0.0 in c:\\users\\withm\\miniconda3\\lib\\site-packages (from google-auth<3,>=1.6.3->tensorboard<2.11,>=2.10->tensorflow) (5.2.0)\n",
      "Requirement already satisfied: rsa<5,>=3.1.4 in c:\\users\\withm\\miniconda3\\lib\\site-packages (from google-auth<3,>=1.6.3->tensorboard<2.11,>=2.10->tensorflow) (4.9)\n",
      "Requirement already satisfied: pyasn1-modules>=0.2.1 in c:\\users\\withm\\miniconda3\\lib\\site-packages (from google-auth<3,>=1.6.3->tensorboard<2.11,>=2.10->tensorflow) (0.2.8)\n",
      "Requirement already satisfied: requests-oauthlib>=0.7.0 in c:\\users\\withm\\miniconda3\\lib\\site-packages (from google-auth-oauthlib<0.5,>=0.4.1->tensorboard<2.11,>=2.10->tensorflow) (1.3.1)\n",
      "Requirement already satisfied: importlib-metadata>=4.4 in c:\\users\\withm\\miniconda3\\lib\\site-packages (from markdown>=2.6.8->tensorboard<2.11,>=2.10->tensorflow) (5.0.0)\n",
      "Requirement already satisfied: charset-normalizer~=2.0.0 in c:\\users\\withm\\miniconda3\\lib\\site-packages (from requests<3,>=2.21.0->tensorboard<2.11,>=2.10->tensorflow) (2.0.4)\n",
      "Requirement already satisfied: idna<4,>=2.5 in c:\\users\\withm\\miniconda3\\lib\\site-packages (from requests<3,>=2.21.0->tensorboard<2.11,>=2.10->tensorflow) (3.3)\n",
      "Requirement already satisfied: urllib3<1.27,>=1.21.1 in c:\\users\\withm\\miniconda3\\lib\\site-packages (from requests<3,>=2.21.0->tensorboard<2.11,>=2.10->tensorflow) (1.26.8)\n",
      "Requirement already satisfied: certifi>=2017.4.17 in c:\\users\\withm\\miniconda3\\lib\\site-packages (from requests<3,>=2.21.0->tensorboard<2.11,>=2.10->tensorflow) (2022.9.24)\n",
      "Requirement already satisfied: MarkupSafe>=2.1.1 in c:\\users\\withm\\miniconda3\\lib\\site-packages (from werkzeug>=1.0.1->tensorboard<2.11,>=2.10->tensorflow) (2.1.1)\n",
      "Requirement already satisfied: zipp>=0.5 in c:\\users\\withm\\miniconda3\\lib\\site-packages (from importlib-metadata>=4.4->markdown>=2.6.8->tensorboard<2.11,>=2.10->tensorflow) (3.10.0)\n",
      "Requirement already satisfied: pyasn1<0.5.0,>=0.4.6 in c:\\users\\withm\\miniconda3\\lib\\site-packages (from pyasn1-modules>=0.2.1->google-auth<3,>=1.6.3->tensorboard<2.11,>=2.10->tensorflow) (0.4.8)\n",
      "Requirement already satisfied: oauthlib>=3.0.0 in c:\\users\\withm\\miniconda3\\lib\\site-packages (from requests-oauthlib>=0.7.0->google-auth-oauthlib<0.5,>=0.4.1->tensorboard<2.11,>=2.10->tensorflow) (3.2.2)\n"
     ]
    }
   ],
   "source": [
    "!pip install --upgrade tensorflow"
   ]
  },
  {
   "cell_type": "code",
   "execution_count": 28,
   "id": "4d09e156-e5d7-4b96-957b-40006f0466b3",
   "metadata": {},
   "outputs": [],
   "source": [
    "from __future__ import print_function\n",
    "import pandas as pd\n",
    "import numpy as np"
   ]
  },
  {
   "cell_type": "code",
   "execution_count": 29,
   "id": "06dc0837-24c4-4eae-889d-991a3ba42d4a",
   "metadata": {},
   "outputs": [
    {
     "data": {
      "text/plain": [
       "'C:\\\\Users\\\\withm\\\\OneDrive\\\\Desktop\\\\DTSC 620 (Mon)\\\\Proj#1'"
      ]
     },
     "execution_count": 29,
     "metadata": {},
     "output_type": "execute_result"
    }
   ],
   "source": [
    "import os\n",
    "os.getcwd()"
   ]
  },
  {
   "cell_type": "code",
   "execution_count": 39,
   "id": "9f41db36-358c-41eb-a41e-420344b2ceb9",
   "metadata": {},
   "outputs": [
    {
     "name": "stdout",
     "output_type": "stream",
     "text": [
      "Dataset Loaded as below...\n"
     ]
    },
    {
     "data": {
      "text/html": [
       "<div>\n",
       "<style scoped>\n",
       "    .dataframe tbody tr th:only-of-type {\n",
       "        vertical-align: middle;\n",
       "    }\n",
       "\n",
       "    .dataframe tbody tr th {\n",
       "        vertical-align: top;\n",
       "    }\n",
       "\n",
       "    .dataframe thead th {\n",
       "        text-align: right;\n",
       "    }\n",
       "</style>\n",
       "<table border=\"1\" class=\"dataframe\">\n",
       "  <thead>\n",
       "    <tr style=\"text-align: right;\">\n",
       "      <th></th>\n",
       "      <th>make</th>\n",
       "      <th>address</th>\n",
       "      <th>all</th>\n",
       "      <th>3d</th>\n",
       "      <th>our</th>\n",
       "      <th>over</th>\n",
       "      <th>remove</th>\n",
       "      <th>internet</th>\n",
       "      <th>order</th>\n",
       "      <th>mail</th>\n",
       "      <th>...</th>\n",
       "      <th>semicol</th>\n",
       "      <th>paren</th>\n",
       "      <th>bracket</th>\n",
       "      <th>bang</th>\n",
       "      <th>dollar</th>\n",
       "      <th>pound</th>\n",
       "      <th>cap_avg</th>\n",
       "      <th>cap_long</th>\n",
       "      <th>cap_total</th>\n",
       "      <th>Class</th>\n",
       "    </tr>\n",
       "  </thead>\n",
       "  <tbody>\n",
       "    <tr>\n",
       "      <th>0</th>\n",
       "      <td>0.00</td>\n",
       "      <td>0.00</td>\n",
       "      <td>0.29</td>\n",
       "      <td>0.0</td>\n",
       "      <td>0.00</td>\n",
       "      <td>0.00</td>\n",
       "      <td>0.00</td>\n",
       "      <td>0.00</td>\n",
       "      <td>0.00</td>\n",
       "      <td>0.00</td>\n",
       "      <td>...</td>\n",
       "      <td>0.000</td>\n",
       "      <td>0.178</td>\n",
       "      <td>0.0</td>\n",
       "      <td>0.044</td>\n",
       "      <td>0.000</td>\n",
       "      <td>0.00</td>\n",
       "      <td>1.666</td>\n",
       "      <td>10</td>\n",
       "      <td>180</td>\n",
       "      <td>ham</td>\n",
       "    </tr>\n",
       "    <tr>\n",
       "      <th>1</th>\n",
       "      <td>0.46</td>\n",
       "      <td>0.00</td>\n",
       "      <td>0.00</td>\n",
       "      <td>0.0</td>\n",
       "      <td>0.00</td>\n",
       "      <td>0.00</td>\n",
       "      <td>0.00</td>\n",
       "      <td>0.00</td>\n",
       "      <td>0.00</td>\n",
       "      <td>0.00</td>\n",
       "      <td>...</td>\n",
       "      <td>0.000</td>\n",
       "      <td>0.125</td>\n",
       "      <td>0.0</td>\n",
       "      <td>0.000</td>\n",
       "      <td>0.000</td>\n",
       "      <td>0.00</td>\n",
       "      <td>1.510</td>\n",
       "      <td>10</td>\n",
       "      <td>74</td>\n",
       "      <td>ham</td>\n",
       "    </tr>\n",
       "    <tr>\n",
       "      <th>2</th>\n",
       "      <td>0.00</td>\n",
       "      <td>0.00</td>\n",
       "      <td>0.00</td>\n",
       "      <td>0.0</td>\n",
       "      <td>0.00</td>\n",
       "      <td>0.00</td>\n",
       "      <td>0.00</td>\n",
       "      <td>0.00</td>\n",
       "      <td>0.00</td>\n",
       "      <td>0.00</td>\n",
       "      <td>...</td>\n",
       "      <td>0.000</td>\n",
       "      <td>0.000</td>\n",
       "      <td>0.0</td>\n",
       "      <td>0.000</td>\n",
       "      <td>0.000</td>\n",
       "      <td>0.00</td>\n",
       "      <td>1.718</td>\n",
       "      <td>11</td>\n",
       "      <td>55</td>\n",
       "      <td>ham</td>\n",
       "    </tr>\n",
       "    <tr>\n",
       "      <th>3</th>\n",
       "      <td>0.33</td>\n",
       "      <td>0.44</td>\n",
       "      <td>0.37</td>\n",
       "      <td>0.0</td>\n",
       "      <td>0.14</td>\n",
       "      <td>0.11</td>\n",
       "      <td>0.00</td>\n",
       "      <td>0.07</td>\n",
       "      <td>0.97</td>\n",
       "      <td>1.16</td>\n",
       "      <td>...</td>\n",
       "      <td>0.006</td>\n",
       "      <td>0.159</td>\n",
       "      <td>0.0</td>\n",
       "      <td>0.069</td>\n",
       "      <td>0.221</td>\n",
       "      <td>0.11</td>\n",
       "      <td>3.426</td>\n",
       "      <td>72</td>\n",
       "      <td>819</td>\n",
       "      <td>spam</td>\n",
       "    </tr>\n",
       "    <tr>\n",
       "      <th>4</th>\n",
       "      <td>0.00</td>\n",
       "      <td>2.08</td>\n",
       "      <td>0.00</td>\n",
       "      <td>0.0</td>\n",
       "      <td>3.12</td>\n",
       "      <td>0.00</td>\n",
       "      <td>1.04</td>\n",
       "      <td>0.00</td>\n",
       "      <td>0.00</td>\n",
       "      <td>0.00</td>\n",
       "      <td>...</td>\n",
       "      <td>0.000</td>\n",
       "      <td>0.000</td>\n",
       "      <td>0.0</td>\n",
       "      <td>0.263</td>\n",
       "      <td>0.000</td>\n",
       "      <td>0.00</td>\n",
       "      <td>1.428</td>\n",
       "      <td>4</td>\n",
       "      <td>20</td>\n",
       "      <td>spam</td>\n",
       "    </tr>\n",
       "    <tr>\n",
       "      <th>...</th>\n",
       "      <td>...</td>\n",
       "      <td>...</td>\n",
       "      <td>...</td>\n",
       "      <td>...</td>\n",
       "      <td>...</td>\n",
       "      <td>...</td>\n",
       "      <td>...</td>\n",
       "      <td>...</td>\n",
       "      <td>...</td>\n",
       "      <td>...</td>\n",
       "      <td>...</td>\n",
       "      <td>...</td>\n",
       "      <td>...</td>\n",
       "      <td>...</td>\n",
       "      <td>...</td>\n",
       "      <td>...</td>\n",
       "      <td>...</td>\n",
       "      <td>...</td>\n",
       "      <td>...</td>\n",
       "      <td>...</td>\n",
       "      <td>...</td>\n",
       "    </tr>\n",
       "    <tr>\n",
       "      <th>4596</th>\n",
       "      <td>0.00</td>\n",
       "      <td>0.00</td>\n",
       "      <td>0.53</td>\n",
       "      <td>0.0</td>\n",
       "      <td>0.00</td>\n",
       "      <td>0.53</td>\n",
       "      <td>0.00</td>\n",
       "      <td>0.00</td>\n",
       "      <td>0.00</td>\n",
       "      <td>0.53</td>\n",
       "      <td>...</td>\n",
       "      <td>0.000</td>\n",
       "      <td>0.101</td>\n",
       "      <td>0.0</td>\n",
       "      <td>0.000</td>\n",
       "      <td>0.000</td>\n",
       "      <td>0.00</td>\n",
       "      <td>1.857</td>\n",
       "      <td>16</td>\n",
       "      <td>52</td>\n",
       "      <td>ham</td>\n",
       "    </tr>\n",
       "    <tr>\n",
       "      <th>4597</th>\n",
       "      <td>0.00</td>\n",
       "      <td>0.00</td>\n",
       "      <td>0.00</td>\n",
       "      <td>0.0</td>\n",
       "      <td>0.00</td>\n",
       "      <td>0.00</td>\n",
       "      <td>0.00</td>\n",
       "      <td>0.00</td>\n",
       "      <td>0.00</td>\n",
       "      <td>0.00</td>\n",
       "      <td>...</td>\n",
       "      <td>0.000</td>\n",
       "      <td>0.443</td>\n",
       "      <td>0.0</td>\n",
       "      <td>0.221</td>\n",
       "      <td>0.665</td>\n",
       "      <td>0.00</td>\n",
       "      <td>3.812</td>\n",
       "      <td>15</td>\n",
       "      <td>61</td>\n",
       "      <td>spam</td>\n",
       "    </tr>\n",
       "    <tr>\n",
       "      <th>4598</th>\n",
       "      <td>0.00</td>\n",
       "      <td>0.00</td>\n",
       "      <td>0.00</td>\n",
       "      <td>0.0</td>\n",
       "      <td>0.00</td>\n",
       "      <td>0.00</td>\n",
       "      <td>0.00</td>\n",
       "      <td>0.00</td>\n",
       "      <td>0.00</td>\n",
       "      <td>0.00</td>\n",
       "      <td>...</td>\n",
       "      <td>0.000</td>\n",
       "      <td>0.000</td>\n",
       "      <td>0.0</td>\n",
       "      <td>0.000</td>\n",
       "      <td>0.000</td>\n",
       "      <td>0.00</td>\n",
       "      <td>1.000</td>\n",
       "      <td>1</td>\n",
       "      <td>3</td>\n",
       "      <td>ham</td>\n",
       "    </tr>\n",
       "    <tr>\n",
       "      <th>4599</th>\n",
       "      <td>0.00</td>\n",
       "      <td>0.00</td>\n",
       "      <td>0.00</td>\n",
       "      <td>0.0</td>\n",
       "      <td>0.00</td>\n",
       "      <td>0.00</td>\n",
       "      <td>0.00</td>\n",
       "      <td>0.00</td>\n",
       "      <td>0.00</td>\n",
       "      <td>0.00</td>\n",
       "      <td>...</td>\n",
       "      <td>0.000</td>\n",
       "      <td>0.218</td>\n",
       "      <td>0.0</td>\n",
       "      <td>0.218</td>\n",
       "      <td>0.000</td>\n",
       "      <td>0.00</td>\n",
       "      <td>1.687</td>\n",
       "      <td>10</td>\n",
       "      <td>27</td>\n",
       "      <td>ham</td>\n",
       "    </tr>\n",
       "    <tr>\n",
       "      <th>4600</th>\n",
       "      <td>0.13</td>\n",
       "      <td>0.26</td>\n",
       "      <td>0.52</td>\n",
       "      <td>0.0</td>\n",
       "      <td>0.26</td>\n",
       "      <td>0.00</td>\n",
       "      <td>0.13</td>\n",
       "      <td>0.00</td>\n",
       "      <td>0.00</td>\n",
       "      <td>0.39</td>\n",
       "      <td>...</td>\n",
       "      <td>0.000</td>\n",
       "      <td>0.000</td>\n",
       "      <td>0.0</td>\n",
       "      <td>0.366</td>\n",
       "      <td>0.000</td>\n",
       "      <td>0.04</td>\n",
       "      <td>7.138</td>\n",
       "      <td>149</td>\n",
       "      <td>1235</td>\n",
       "      <td>spam</td>\n",
       "    </tr>\n",
       "  </tbody>\n",
       "</table>\n",
       "<p>4601 rows × 58 columns</p>\n",
       "</div>"
      ],
      "text/plain": [
       "      make  address   all   3d   our  over  remove  internet  order  mail  \\\n",
       "0     0.00     0.00  0.29  0.0  0.00  0.00    0.00      0.00   0.00  0.00   \n",
       "1     0.46     0.00  0.00  0.0  0.00  0.00    0.00      0.00   0.00  0.00   \n",
       "2     0.00     0.00  0.00  0.0  0.00  0.00    0.00      0.00   0.00  0.00   \n",
       "3     0.33     0.44  0.37  0.0  0.14  0.11    0.00      0.07   0.97  1.16   \n",
       "4     0.00     2.08  0.00  0.0  3.12  0.00    1.04      0.00   0.00  0.00   \n",
       "...    ...      ...   ...  ...   ...   ...     ...       ...    ...   ...   \n",
       "4596  0.00     0.00  0.53  0.0  0.00  0.53    0.00      0.00   0.00  0.53   \n",
       "4597  0.00     0.00  0.00  0.0  0.00  0.00    0.00      0.00   0.00  0.00   \n",
       "4598  0.00     0.00  0.00  0.0  0.00  0.00    0.00      0.00   0.00  0.00   \n",
       "4599  0.00     0.00  0.00  0.0  0.00  0.00    0.00      0.00   0.00  0.00   \n",
       "4600  0.13     0.26  0.52  0.0  0.26  0.00    0.13      0.00   0.00  0.39   \n",
       "\n",
       "      ...  semicol  paren  bracket   bang  dollar  pound  cap_avg  cap_long  \\\n",
       "0     ...    0.000  0.178      0.0  0.044   0.000   0.00    1.666        10   \n",
       "1     ...    0.000  0.125      0.0  0.000   0.000   0.00    1.510        10   \n",
       "2     ...    0.000  0.000      0.0  0.000   0.000   0.00    1.718        11   \n",
       "3     ...    0.006  0.159      0.0  0.069   0.221   0.11    3.426        72   \n",
       "4     ...    0.000  0.000      0.0  0.263   0.000   0.00    1.428         4   \n",
       "...   ...      ...    ...      ...    ...     ...    ...      ...       ...   \n",
       "4596  ...    0.000  0.101      0.0  0.000   0.000   0.00    1.857        16   \n",
       "4597  ...    0.000  0.443      0.0  0.221   0.665   0.00    3.812        15   \n",
       "4598  ...    0.000  0.000      0.0  0.000   0.000   0.00    1.000         1   \n",
       "4599  ...    0.000  0.218      0.0  0.218   0.000   0.00    1.687        10   \n",
       "4600  ...    0.000  0.000      0.0  0.366   0.000   0.04    7.138       149   \n",
       "\n",
       "      cap_total  Class  \n",
       "0           180    ham  \n",
       "1            74    ham  \n",
       "2            55    ham  \n",
       "3           819   spam  \n",
       "4            20   spam  \n",
       "...         ...    ...  \n",
       "4596         52    ham  \n",
       "4597         61   spam  \n",
       "4598          3    ham  \n",
       "4599         27    ham  \n",
       "4600       1235   spam  \n",
       "\n",
       "[4601 rows x 58 columns]"
      ]
     },
     "metadata": {},
     "output_type": "display_data"
    }
   ],
   "source": [
    "#Loading a dataset in to s date frame\n",
    "spam = pd.read_csv(\"C:\\\\Users\\\\withm\\\\OneDrive\\\\Desktop\\\\DTSC 620 (Mon)\\\\Proj#1\\\\spam.csv\", sep = ',')\n",
    "print('Dataset Loaded as below...')\n",
    "display(spam)"
   ]
  },
  {
   "cell_type": "code",
   "execution_count": 41,
   "id": "955904d2-f8e1-40f6-b12b-4ad0c2959716",
   "metadata": {},
   "outputs": [
    {
     "data": {
      "text/html": [
       "<div>\n",
       "<style scoped>\n",
       "    .dataframe tbody tr th:only-of-type {\n",
       "        vertical-align: middle;\n",
       "    }\n",
       "\n",
       "    .dataframe tbody tr th {\n",
       "        vertical-align: top;\n",
       "    }\n",
       "\n",
       "    .dataframe thead th {\n",
       "        text-align: right;\n",
       "    }\n",
       "</style>\n",
       "<table border=\"1\" class=\"dataframe\">\n",
       "  <thead>\n",
       "    <tr style=\"text-align: right;\">\n",
       "      <th></th>\n",
       "      <th>make</th>\n",
       "      <th>address</th>\n",
       "      <th>all</th>\n",
       "      <th>3d</th>\n",
       "      <th>our</th>\n",
       "      <th>over</th>\n",
       "      <th>remove</th>\n",
       "      <th>internet</th>\n",
       "      <th>order</th>\n",
       "      <th>mail</th>\n",
       "      <th>...</th>\n",
       "      <th>semicol</th>\n",
       "      <th>paren</th>\n",
       "      <th>bracket</th>\n",
       "      <th>bang</th>\n",
       "      <th>dollar</th>\n",
       "      <th>pound</th>\n",
       "      <th>cap_avg</th>\n",
       "      <th>cap_long</th>\n",
       "      <th>cap_total</th>\n",
       "      <th>Class</th>\n",
       "    </tr>\n",
       "  </thead>\n",
       "  <tbody>\n",
       "    <tr>\n",
       "      <th>0</th>\n",
       "      <td>0.00</td>\n",
       "      <td>0.00</td>\n",
       "      <td>0.29</td>\n",
       "      <td>0.0</td>\n",
       "      <td>0.00</td>\n",
       "      <td>0.00</td>\n",
       "      <td>0.00</td>\n",
       "      <td>0.00</td>\n",
       "      <td>0.00</td>\n",
       "      <td>0.00</td>\n",
       "      <td>...</td>\n",
       "      <td>0.000</td>\n",
       "      <td>0.178</td>\n",
       "      <td>0.0</td>\n",
       "      <td>0.044</td>\n",
       "      <td>0.000</td>\n",
       "      <td>0.00</td>\n",
       "      <td>1.666</td>\n",
       "      <td>10</td>\n",
       "      <td>180</td>\n",
       "      <td>ham</td>\n",
       "    </tr>\n",
       "    <tr>\n",
       "      <th>1</th>\n",
       "      <td>0.46</td>\n",
       "      <td>0.00</td>\n",
       "      <td>0.00</td>\n",
       "      <td>0.0</td>\n",
       "      <td>0.00</td>\n",
       "      <td>0.00</td>\n",
       "      <td>0.00</td>\n",
       "      <td>0.00</td>\n",
       "      <td>0.00</td>\n",
       "      <td>0.00</td>\n",
       "      <td>...</td>\n",
       "      <td>0.000</td>\n",
       "      <td>0.125</td>\n",
       "      <td>0.0</td>\n",
       "      <td>0.000</td>\n",
       "      <td>0.000</td>\n",
       "      <td>0.00</td>\n",
       "      <td>1.510</td>\n",
       "      <td>10</td>\n",
       "      <td>74</td>\n",
       "      <td>ham</td>\n",
       "    </tr>\n",
       "    <tr>\n",
       "      <th>2</th>\n",
       "      <td>0.00</td>\n",
       "      <td>0.00</td>\n",
       "      <td>0.00</td>\n",
       "      <td>0.0</td>\n",
       "      <td>0.00</td>\n",
       "      <td>0.00</td>\n",
       "      <td>0.00</td>\n",
       "      <td>0.00</td>\n",
       "      <td>0.00</td>\n",
       "      <td>0.00</td>\n",
       "      <td>...</td>\n",
       "      <td>0.000</td>\n",
       "      <td>0.000</td>\n",
       "      <td>0.0</td>\n",
       "      <td>0.000</td>\n",
       "      <td>0.000</td>\n",
       "      <td>0.00</td>\n",
       "      <td>1.718</td>\n",
       "      <td>11</td>\n",
       "      <td>55</td>\n",
       "      <td>ham</td>\n",
       "    </tr>\n",
       "    <tr>\n",
       "      <th>3</th>\n",
       "      <td>0.33</td>\n",
       "      <td>0.44</td>\n",
       "      <td>0.37</td>\n",
       "      <td>0.0</td>\n",
       "      <td>0.14</td>\n",
       "      <td>0.11</td>\n",
       "      <td>0.00</td>\n",
       "      <td>0.07</td>\n",
       "      <td>0.97</td>\n",
       "      <td>1.16</td>\n",
       "      <td>...</td>\n",
       "      <td>0.006</td>\n",
       "      <td>0.159</td>\n",
       "      <td>0.0</td>\n",
       "      <td>0.069</td>\n",
       "      <td>0.221</td>\n",
       "      <td>0.11</td>\n",
       "      <td>3.426</td>\n",
       "      <td>72</td>\n",
       "      <td>819</td>\n",
       "      <td>spam</td>\n",
       "    </tr>\n",
       "    <tr>\n",
       "      <th>4</th>\n",
       "      <td>0.00</td>\n",
       "      <td>2.08</td>\n",
       "      <td>0.00</td>\n",
       "      <td>0.0</td>\n",
       "      <td>3.12</td>\n",
       "      <td>0.00</td>\n",
       "      <td>1.04</td>\n",
       "      <td>0.00</td>\n",
       "      <td>0.00</td>\n",
       "      <td>0.00</td>\n",
       "      <td>...</td>\n",
       "      <td>0.000</td>\n",
       "      <td>0.000</td>\n",
       "      <td>0.0</td>\n",
       "      <td>0.263</td>\n",
       "      <td>0.000</td>\n",
       "      <td>0.00</td>\n",
       "      <td>1.428</td>\n",
       "      <td>4</td>\n",
       "      <td>20</td>\n",
       "      <td>spam</td>\n",
       "    </tr>\n",
       "    <tr>\n",
       "      <th>...</th>\n",
       "      <td>...</td>\n",
       "      <td>...</td>\n",
       "      <td>...</td>\n",
       "      <td>...</td>\n",
       "      <td>...</td>\n",
       "      <td>...</td>\n",
       "      <td>...</td>\n",
       "      <td>...</td>\n",
       "      <td>...</td>\n",
       "      <td>...</td>\n",
       "      <td>...</td>\n",
       "      <td>...</td>\n",
       "      <td>...</td>\n",
       "      <td>...</td>\n",
       "      <td>...</td>\n",
       "      <td>...</td>\n",
       "      <td>...</td>\n",
       "      <td>...</td>\n",
       "      <td>...</td>\n",
       "      <td>...</td>\n",
       "      <td>...</td>\n",
       "    </tr>\n",
       "    <tr>\n",
       "      <th>4596</th>\n",
       "      <td>0.00</td>\n",
       "      <td>0.00</td>\n",
       "      <td>0.53</td>\n",
       "      <td>0.0</td>\n",
       "      <td>0.00</td>\n",
       "      <td>0.53</td>\n",
       "      <td>0.00</td>\n",
       "      <td>0.00</td>\n",
       "      <td>0.00</td>\n",
       "      <td>0.53</td>\n",
       "      <td>...</td>\n",
       "      <td>0.000</td>\n",
       "      <td>0.101</td>\n",
       "      <td>0.0</td>\n",
       "      <td>0.000</td>\n",
       "      <td>0.000</td>\n",
       "      <td>0.00</td>\n",
       "      <td>1.857</td>\n",
       "      <td>16</td>\n",
       "      <td>52</td>\n",
       "      <td>ham</td>\n",
       "    </tr>\n",
       "    <tr>\n",
       "      <th>4597</th>\n",
       "      <td>0.00</td>\n",
       "      <td>0.00</td>\n",
       "      <td>0.00</td>\n",
       "      <td>0.0</td>\n",
       "      <td>0.00</td>\n",
       "      <td>0.00</td>\n",
       "      <td>0.00</td>\n",
       "      <td>0.00</td>\n",
       "      <td>0.00</td>\n",
       "      <td>0.00</td>\n",
       "      <td>...</td>\n",
       "      <td>0.000</td>\n",
       "      <td>0.443</td>\n",
       "      <td>0.0</td>\n",
       "      <td>0.221</td>\n",
       "      <td>0.665</td>\n",
       "      <td>0.00</td>\n",
       "      <td>3.812</td>\n",
       "      <td>15</td>\n",
       "      <td>61</td>\n",
       "      <td>spam</td>\n",
       "    </tr>\n",
       "    <tr>\n",
       "      <th>4598</th>\n",
       "      <td>0.00</td>\n",
       "      <td>0.00</td>\n",
       "      <td>0.00</td>\n",
       "      <td>0.0</td>\n",
       "      <td>0.00</td>\n",
       "      <td>0.00</td>\n",
       "      <td>0.00</td>\n",
       "      <td>0.00</td>\n",
       "      <td>0.00</td>\n",
       "      <td>0.00</td>\n",
       "      <td>...</td>\n",
       "      <td>0.000</td>\n",
       "      <td>0.000</td>\n",
       "      <td>0.0</td>\n",
       "      <td>0.000</td>\n",
       "      <td>0.000</td>\n",
       "      <td>0.00</td>\n",
       "      <td>1.000</td>\n",
       "      <td>1</td>\n",
       "      <td>3</td>\n",
       "      <td>ham</td>\n",
       "    </tr>\n",
       "    <tr>\n",
       "      <th>4599</th>\n",
       "      <td>0.00</td>\n",
       "      <td>0.00</td>\n",
       "      <td>0.00</td>\n",
       "      <td>0.0</td>\n",
       "      <td>0.00</td>\n",
       "      <td>0.00</td>\n",
       "      <td>0.00</td>\n",
       "      <td>0.00</td>\n",
       "      <td>0.00</td>\n",
       "      <td>0.00</td>\n",
       "      <td>...</td>\n",
       "      <td>0.000</td>\n",
       "      <td>0.218</td>\n",
       "      <td>0.0</td>\n",
       "      <td>0.218</td>\n",
       "      <td>0.000</td>\n",
       "      <td>0.00</td>\n",
       "      <td>1.687</td>\n",
       "      <td>10</td>\n",
       "      <td>27</td>\n",
       "      <td>ham</td>\n",
       "    </tr>\n",
       "    <tr>\n",
       "      <th>4600</th>\n",
       "      <td>0.13</td>\n",
       "      <td>0.26</td>\n",
       "      <td>0.52</td>\n",
       "      <td>0.0</td>\n",
       "      <td>0.26</td>\n",
       "      <td>0.00</td>\n",
       "      <td>0.13</td>\n",
       "      <td>0.00</td>\n",
       "      <td>0.00</td>\n",
       "      <td>0.39</td>\n",
       "      <td>...</td>\n",
       "      <td>0.000</td>\n",
       "      <td>0.000</td>\n",
       "      <td>0.0</td>\n",
       "      <td>0.366</td>\n",
       "      <td>0.000</td>\n",
       "      <td>0.04</td>\n",
       "      <td>7.138</td>\n",
       "      <td>149</td>\n",
       "      <td>1235</td>\n",
       "      <td>spam</td>\n",
       "    </tr>\n",
       "  </tbody>\n",
       "</table>\n",
       "<p>4601 rows × 58 columns</p>\n",
       "</div>"
      ],
      "text/plain": [
       "      make  address   all   3d   our  over  remove  internet  order  mail  \\\n",
       "0     0.00     0.00  0.29  0.0  0.00  0.00    0.00      0.00   0.00  0.00   \n",
       "1     0.46     0.00  0.00  0.0  0.00  0.00    0.00      0.00   0.00  0.00   \n",
       "2     0.00     0.00  0.00  0.0  0.00  0.00    0.00      0.00   0.00  0.00   \n",
       "3     0.33     0.44  0.37  0.0  0.14  0.11    0.00      0.07   0.97  1.16   \n",
       "4     0.00     2.08  0.00  0.0  3.12  0.00    1.04      0.00   0.00  0.00   \n",
       "...    ...      ...   ...  ...   ...   ...     ...       ...    ...   ...   \n",
       "4596  0.00     0.00  0.53  0.0  0.00  0.53    0.00      0.00   0.00  0.53   \n",
       "4597  0.00     0.00  0.00  0.0  0.00  0.00    0.00      0.00   0.00  0.00   \n",
       "4598  0.00     0.00  0.00  0.0  0.00  0.00    0.00      0.00   0.00  0.00   \n",
       "4599  0.00     0.00  0.00  0.0  0.00  0.00    0.00      0.00   0.00  0.00   \n",
       "4600  0.13     0.26  0.52  0.0  0.26  0.00    0.13      0.00   0.00  0.39   \n",
       "\n",
       "      ...  semicol  paren  bracket   bang  dollar  pound  cap_avg  cap_long  \\\n",
       "0     ...    0.000  0.178      0.0  0.044   0.000   0.00    1.666        10   \n",
       "1     ...    0.000  0.125      0.0  0.000   0.000   0.00    1.510        10   \n",
       "2     ...    0.000  0.000      0.0  0.000   0.000   0.00    1.718        11   \n",
       "3     ...    0.006  0.159      0.0  0.069   0.221   0.11    3.426        72   \n",
       "4     ...    0.000  0.000      0.0  0.263   0.000   0.00    1.428         4   \n",
       "...   ...      ...    ...      ...    ...     ...    ...      ...       ...   \n",
       "4596  ...    0.000  0.101      0.0  0.000   0.000   0.00    1.857        16   \n",
       "4597  ...    0.000  0.443      0.0  0.221   0.665   0.00    3.812        15   \n",
       "4598  ...    0.000  0.000      0.0  0.000   0.000   0.00    1.000         1   \n",
       "4599  ...    0.000  0.218      0.0  0.218   0.000   0.00    1.687        10   \n",
       "4600  ...    0.000  0.000      0.0  0.366   0.000   0.04    7.138       149   \n",
       "\n",
       "      cap_total  Class  \n",
       "0           180    ham  \n",
       "1            74    ham  \n",
       "2            55    ham  \n",
       "3           819   spam  \n",
       "4            20   spam  \n",
       "...         ...    ...  \n",
       "4596         52    ham  \n",
       "4597         61   spam  \n",
       "4598          3    ham  \n",
       "4599         27    ham  \n",
       "4600       1235   spam  \n",
       "\n",
       "[4601 rows x 58 columns]"
      ]
     },
     "metadata": {},
     "output_type": "display_data"
    }
   ],
   "source": [
    "#Fill in the missing feature values with the most popular/frequent values in each column\n",
    "spam.fillna(spam.mode().iloc[0])\n",
    "display(spam)"
   ]
  },
  {
   "cell_type": "code",
   "execution_count": 38,
   "id": "e563df78-a918-4aad-93a8-d59495e6828d",
   "metadata": {},
   "outputs": [],
   "source": [
    "#Load library for classification task\n",
    "from sklearn.ensemble import RandomForestClassifier\n",
    "from sklearn import tree\n",
    "from sklearn.tree import DecisionTreeClassifier\n",
    "from sklearn.ensemble import AdaBoostClassifier\n",
    "from sklearn.linear_model import LogisticRegression\n",
    "from sklearn.neighbors import KNeighborsClassifier\n",
    "from sklearn.metrics import confusion_matrix\n",
    "from sklearn.metrics import classification_report\n",
    "from sklearn.metrics import accuracy_score"
   ]
  },
  {
   "cell_type": "code",
   "execution_count": 60,
   "id": "1d1bf4e4-991e-4fed-8c61-d49e281ac516",
   "metadata": {},
   "outputs": [],
   "source": [
    "#Creat a training and testing set\n",
    "from sklearn.model_selection import train_test_split\n",
    "spam_training_set, spam_test_set = train_test_split(spam, test_size=1000, random_state=1)\n",
    "\n",
    "spam_training_data, spam_training_target = spam_training_set[[\"make\", \"address\", \"all\", \"3d\", \"our\", \"over\", \"remove\", \"internet\", \"order\", \"mail\", \"receive\", \"will\", \"people\", \"report\", \"addresses\", \"free\", \"business\", \"email\", \"you\", \"credit\", \"your\", \"font\", \"0\", \"money\", \"hp\", \"hpl\", \"george\", \"650\", \"lab\", \"labs\", \"telnet\", \"857\", \"data\", \"415\", \"85\", \"technology\", \"1999\", \"parts\", \"pm\", \"direct\", \"cs\", \"meeting\", \"original\", \"project\", \"re\", \"edu\", \"table\", \"conference\", \"semicol\", \"paren\", \"bracket\", \"bang\", \"dollar\", \"pound\", \"cap_avg\", \"cap_long\", \"cap_total\"]], spam_training_set[\"Class\"]\n",
    "spam_test_data, spam_test_target = spam_test_set[[\"make\", \"address\", \"all\", \"3d\", \"our\", \"over\", \"remove\", \"internet\", \"order\", \"mail\", \"receive\", \"will\", \"people\", \"report\", \"addresses\", \"free\", \"business\", \"email\", \"you\", \"credit\", \"your\", \"font\", \"0\", \"money\", \"hp\", \"hpl\", \"george\", \"650\", \"lab\", \"labs\", \"telnet\", \"857\", \"data\", \"415\", \"85\", \"technology\", \"1999\", \"parts\", \"pm\", \"direct\", \"cs\", \"meeting\", \"original\", \"project\", \"re\", \"edu\", \"table\", \"conference\", \"semicol\", \"paren\", \"bracket\", \"bang\", \"dollar\", \"pound\", \"cap_avg\", \"cap_long\", \"cap_total\"]], spam_test_set[\"Class\"]"
   ]
  },
  {
   "cell_type": "code",
   "execution_count": 62,
   "id": "7d14c5ee-51ed-4fb2-be34-279382c1ebd9",
   "metadata": {
    "tags": []
   },
   "outputs": [],
   "source": [
    "#(1)Decision Tree classifier\n",
    "#Create Decision Tree classifer object\n",
    "clf = DecisionTreeClassifier()\n",
    "#Train Decision Tree Classifier\n",
    "clf.fit(spam_training_data, spam_training_target)\n",
    "#Predict the reponse for test dataset\n",
    "spam_test_target_predict=clf.predict(spam_test_data)"
   ]
  },
  {
   "cell_type": "code",
   "execution_count": 63,
   "id": "58d13703-eb87-4544-9d4d-df1b14a79a61",
   "metadata": {},
   "outputs": [
    {
     "data": {
      "text/plain": [
       "0.913"
      ]
     },
     "execution_count": 63,
     "metadata": {},
     "output_type": "execute_result"
    }
   ],
   "source": [
    "#Classification accuracy\n",
    "accuracy_score(spam_test_target,spam_test_target_predict)"
   ]
  },
  {
   "cell_type": "code",
   "execution_count": 64,
   "id": "3cce96e5-a019-45e7-9284-a0c68255ad46",
   "metadata": {},
   "outputs": [
    {
     "data": {
      "text/plain": [
       "'              precision    recall  f1-score   support\\n\\n         ham       0.92      0.93      0.93       584\\n        spam       0.90      0.89      0.90       416\\n\\n    accuracy                           0.91      1000\\n   macro avg       0.91      0.91      0.91      1000\\nweighted avg       0.91      0.91      0.91      1000\\n'"
      ]
     },
     "execution_count": 64,
     "metadata": {},
     "output_type": "execute_result"
    }
   ],
   "source": [
    "#Per class classification accuracy\n",
    "classification_report(spam_test_target, spam_test_target_predict)"
   ]
  },
  {
   "cell_type": "code",
   "execution_count": 65,
   "id": "c4c1b1b7-abb0-41a9-a88a-d577da558303",
   "metadata": {},
   "outputs": [
    {
     "data": {
      "text/plain": [
       "array([[542,  42],\n",
       "       [ 45, 371]], dtype=int64)"
      ]
     },
     "execution_count": 65,
     "metadata": {},
     "output_type": "execute_result"
    }
   ],
   "source": [
    "#Confusion Matrix\n",
    "confusion_matrix(spam_test_target,spam_test_target_predict)"
   ]
  },
  {
   "cell_type": "code",
   "execution_count": 72,
   "id": "192cabf2-4968-40b1-9c15-c6462fcddcf7",
   "metadata": {},
   "outputs": [
    {
     "data": {
      "image/png": "[encoded data removed]",
      "text/plain": [
       "<Figure size 640x480 with 1 Axes>"
      ]
     },
     "metadata": {},
     "output_type": "display_data"
    }
   ],
   "source": [
    "#Visualize Decision Trees\n",
    "tree.plot_tree(clf);"
   ]
  },
  {
   "cell_type": "code",
   "execution_count": 96,
   "id": "3814f4c7-01cb-4a90-938f-21f824039000",
   "metadata": {},
   "outputs": [],
   "source": [
    "#(2)-1 Random Forest Classifier\n",
    "#(a)-1 when the number of base learner is 50 & max_features = \"auto/none\" \n",
    "#Create Random Forest classifer object\n",
    "clf = RandomForestClassifier(n_estimators=50, random_state=0)\n",
    "#Train Random Forest Classifer\n",
    "clf.fit(spam_training_data,spam_training_target)\n",
    "#Predict the reponse for test dataset\n",
    "spam_test_target_predict=clf.predict(spam_test_data)"
   ]
  },
  {
   "cell_type": "code",
   "execution_count": 97,
   "id": "c45b9eca-dead-4388-b5b5-20ebc9b93ed5",
   "metadata": {},
   "outputs": [
    {
     "data": {
      "text/plain": [
       "0.947"
      ]
     },
     "execution_count": 97,
     "metadata": {},
     "output_type": "execute_result"
    }
   ],
   "source": [
    "#Classification accuracy\n",
    "accuracy_score(spam_test_target,spam_test_target_predict)"
   ]
  },
  {
   "cell_type": "code",
   "execution_count": 98,
   "id": "77250e53-1e03-4c6c-89b2-0c3c2e6d40c8",
   "metadata": {},
   "outputs": [
    {
     "data": {
      "text/plain": [
       "'              precision    recall  f1-score   support\\n\\n         ham       0.94      0.98      0.96       584\\n        spam       0.96      0.91      0.93       416\\n\\n    accuracy                           0.95      1000\\n   macro avg       0.95      0.94      0.94      1000\\nweighted avg       0.95      0.95      0.95      1000\\n'"
      ]
     },
     "execution_count": 98,
     "metadata": {},
     "output_type": "execute_result"
    }
   ],
   "source": [
    "#Per class classification accuracy\n",
    "classification_report(spam_test_target, spam_test_target_predict)"
   ]
  },
  {
   "cell_type": "code",
   "execution_count": 99,
   "id": "bb49be35-bee7-4154-9bbf-3ca02594e8b5",
   "metadata": {},
   "outputs": [
    {
     "data": {
      "text/plain": [
       "array([[570,  14],\n",
       "       [ 39, 377]], dtype=int64)"
      ]
     },
     "execution_count": 99,
     "metadata": {},
     "output_type": "execute_result"
    }
   ],
   "source": [
    "#Confusion Matrix\n",
    "confusion_matrix(spam_test_target,spam_test_target_predict)"
   ]
  },
  {
   "cell_type": "code",
   "execution_count": 102,
   "id": "ff0cdbc7-8540-4cec-b76f-edc5be2dfda5",
   "metadata": {},
   "outputs": [],
   "source": [
    "#(a)-2 when the number of base learner is 50 & max_features = \"sqrt\" \n",
    "#Create Random Forest classifer object\n",
    "clf = RandomForestClassifier(n_estimators=50, max_features=\"sqrt\", random_state=0)\n",
    "#Train Random Forest Classifer\n",
    "clf.fit(spam_training_data,spam_training_target)\n",
    "#Predict the reponse for test dataset\n",
    "spam_test_target_predict=clf.predict(spam_test_data)"
   ]
  },
  {
   "cell_type": "code",
   "execution_count": 103,
   "id": "73d83b74-19ac-4ad6-a7d6-cbbe8e8f7cde",
   "metadata": {},
   "outputs": [
    {
     "data": {
      "text/plain": [
       "0.947"
      ]
     },
     "execution_count": 103,
     "metadata": {},
     "output_type": "execute_result"
    }
   ],
   "source": [
    "#Classification accuracy\n",
    "accuracy_score(spam_test_target,spam_test_target_predict)"
   ]
  },
  {
   "cell_type": "code",
   "execution_count": 104,
   "id": "903c176a-db6c-4c22-b0b5-c5793762c57d",
   "metadata": {},
   "outputs": [
    {
     "data": {
      "text/plain": [
       "'              precision    recall  f1-score   support\\n\\n         ham       0.94      0.98      0.96       584\\n        spam       0.96      0.91      0.93       416\\n\\n    accuracy                           0.95      1000\\n   macro avg       0.95      0.94      0.94      1000\\nweighted avg       0.95      0.95      0.95      1000\\n'"
      ]
     },
     "execution_count": 104,
     "metadata": {},
     "output_type": "execute_result"
    }
   ],
   "source": [
    "#Per class classification accuracy\n",
    "classification_report(spam_test_target, spam_test_target_predict)"
   ]
  },
  {
   "cell_type": "code",
   "execution_count": 105,
   "id": "51952d3e-4384-4234-a552-b9f53cfe1973",
   "metadata": {},
   "outputs": [
    {
     "data": {
      "text/plain": [
       "array([[570,  14],\n",
       "       [ 39, 377]], dtype=int64)"
      ]
     },
     "execution_count": 105,
     "metadata": {},
     "output_type": "execute_result"
    }
   ],
   "source": [
    "#Confusion Matrix\n",
    "confusion_matrix(spam_test_target,spam_test_target_predict)"
   ]
  },
  {
   "cell_type": "code",
   "execution_count": 106,
   "id": "f1e38f25-db52-4937-9d5e-dc2ed1136768",
   "metadata": {},
   "outputs": [],
   "source": [
    "#(b)-1 when the number of base learner is 500 & max_features = \"auto/none\" \n",
    "#Create Random Forest classifer object\n",
    "clf = RandomForestClassifier(n_estimators=500, random_state=0)\n",
    "#Train Random Forest Classifer\n",
    "clf.fit(spam_training_data,spam_training_target)\n",
    "#Predict the reponse for test dataset\n",
    "spam_test_target_predict=clf.predict(spam_test_data)"
   ]
  },
  {
   "cell_type": "code",
   "execution_count": 107,
   "id": "1cbce22c-fc65-4c65-b6b4-e6c9a25121e4",
   "metadata": {},
   "outputs": [
    {
     "data": {
      "text/plain": [
       "0.946"
      ]
     },
     "execution_count": 107,
     "metadata": {},
     "output_type": "execute_result"
    }
   ],
   "source": [
    "#Classification accuracy\n",
    "accuracy_score(spam_test_target,spam_test_target_predict)"
   ]
  },
  {
   "cell_type": "code",
   "execution_count": 108,
   "id": "70334485-f95a-4a6a-921a-262b35aea8f8",
   "metadata": {},
   "outputs": [
    {
     "data": {
      "text/plain": [
       "'              precision    recall  f1-score   support\\n\\n         ham       0.93      0.98      0.95       584\\n        spam       0.96      0.90      0.93       416\\n\\n    accuracy                           0.95      1000\\n   macro avg       0.95      0.94      0.94      1000\\nweighted avg       0.95      0.95      0.95      1000\\n'"
      ]
     },
     "execution_count": 108,
     "metadata": {},
     "output_type": "execute_result"
    }
   ],
   "source": [
    "#Per class classification accuracy\n",
    "classification_report(spam_test_target, spam_test_target_predict)"
   ]
  },
  {
   "cell_type": "code",
   "execution_count": 109,
   "id": "7bc6b974-c23b-4d5d-b7ff-e87967c169ca",
   "metadata": {},
   "outputs": [
    {
     "data": {
      "text/plain": [
       "array([[570,  14],\n",
       "       [ 40, 376]], dtype=int64)"
      ]
     },
     "execution_count": 109,
     "metadata": {},
     "output_type": "execute_result"
    }
   ],
   "source": [
    "#Confusion Matrix\n",
    "confusion_matrix(spam_test_target,spam_test_target_predict)"
   ]
  },
  {
   "cell_type": "code",
   "execution_count": 110,
   "id": "8ec2f9f7-6d17-4375-9a8a-2c9677fc60ae",
   "metadata": {},
   "outputs": [],
   "source": [
    "#(b)-2 when the number of base learner is 500 & max_features = \"sqrt\" \n",
    "#Create Random Forest classifer object\n",
    "clf = RandomForestClassifier(n_estimators=500, max_features=\"sqrt\", random_state=0)\n",
    "#Train Random Forest Classifer\n",
    "clf.fit(spam_training_data,spam_training_target)\n",
    "#Predict the reponse for test dataset\n",
    "spam_test_target_predict=clf.predict(spam_test_data)"
   ]
  },
  {
   "cell_type": "code",
   "execution_count": 111,
   "id": "4a590189-a2e3-4c6f-b5c7-5801e65e9a4a",
   "metadata": {},
   "outputs": [
    {
     "data": {
      "text/plain": [
       "0.946"
      ]
     },
     "execution_count": 111,
     "metadata": {},
     "output_type": "execute_result"
    }
   ],
   "source": [
    "#Classification accuracy\n",
    "accuracy_score(spam_test_target,spam_test_target_predict)"
   ]
  },
  {
   "cell_type": "code",
   "execution_count": 112,
   "id": "6eb97238-7684-4740-a6b5-87070a41c25d",
   "metadata": {},
   "outputs": [
    {
     "data": {
      "text/plain": [
       "'              precision    recall  f1-score   support\\n\\n         ham       0.93      0.98      0.95       584\\n        spam       0.96      0.90      0.93       416\\n\\n    accuracy                           0.95      1000\\n   macro avg       0.95      0.94      0.94      1000\\nweighted avg       0.95      0.95      0.95      1000\\n'"
      ]
     },
     "execution_count": 112,
     "metadata": {},
     "output_type": "execute_result"
    }
   ],
   "source": [
    "#Per class classification accuracy\n",
    "classification_report(spam_test_target, spam_test_target_predict)"
   ]
  },
  {
   "cell_type": "code",
   "execution_count": 113,
   "id": "5ccc0704-5aa4-4c20-8cd3-7d14213bb2cb",
   "metadata": {},
   "outputs": [
    {
     "data": {
      "text/plain": [
       "array([[570,  14],\n",
       "       [ 40, 376]], dtype=int64)"
      ]
     },
     "execution_count": 113,
     "metadata": {},
     "output_type": "execute_result"
    }
   ],
   "source": [
    "#Confusion Matrix\n",
    "confusion_matrix(spam_test_target,spam_test_target_predict)"
   ]
  },
  {
   "cell_type": "code",
   "execution_count": 128,
   "id": "0d10b3fa-693f-4d39-8862-2ab911d9a9da",
   "metadata": {},
   "outputs": [],
   "source": [
    "#(c)-1 when the number of base learner is 10 & max_features = \"auto/none\" \n",
    "#Create Random Forest classifer object\n",
    "clf = RandomForestClassifier(n_estimators=10, random_state=0)\n",
    "#Train Random Forest Classifer\n",
    "clf.fit(spam_training_data,spam_training_target)\n",
    "#Predict the reponse for test dataset\n",
    "spam_test_target_predict=clf.predict(spam_test_data)"
   ]
  },
  {
   "cell_type": "code",
   "execution_count": 123,
   "id": "b98f2cc9-797a-47ee-98be-feaa5f0e53d4",
   "metadata": {},
   "outputs": [
    {
     "data": {
      "text/plain": [
       "0.932"
      ]
     },
     "execution_count": 123,
     "metadata": {},
     "output_type": "execute_result"
    }
   ],
   "source": [
    "#Classification accuracy\n",
    "accuracy_score(spam_test_target,spam_test_target_predict)"
   ]
  },
  {
   "cell_type": "code",
   "execution_count": 124,
   "id": "58038dbe-a3eb-40e3-9d64-da7ce5799172",
   "metadata": {},
   "outputs": [
    {
     "data": {
      "text/plain": [
       "'              precision    recall  f1-score   support\\n\\n         ham       0.92      0.97      0.94       584\\n        spam       0.96      0.88      0.91       416\\n\\n    accuracy                           0.93      1000\\n   macro avg       0.94      0.92      0.93      1000\\nweighted avg       0.93      0.93      0.93      1000\\n'"
      ]
     },
     "execution_count": 124,
     "metadata": {},
     "output_type": "execute_result"
    }
   ],
   "source": [
    "#Per class classification accuracy\n",
    "classification_report(spam_test_target, spam_test_target_predict)"
   ]
  },
  {
   "cell_type": "code",
   "execution_count": 125,
   "id": "02852306-2736-4ece-8625-a31a4b50080f",
   "metadata": {},
   "outputs": [
    {
     "data": {
      "text/plain": [
       "array([[567,  17],\n",
       "       [ 51, 365]], dtype=int64)"
      ]
     },
     "execution_count": 125,
     "metadata": {},
     "output_type": "execute_result"
    }
   ],
   "source": [
    "#Confusion Matrix\n",
    "confusion_matrix(spam_test_target,spam_test_target_predict)"
   ]
  },
  {
   "cell_type": "code",
   "execution_count": 129,
   "id": "fb8a5149-a164-4556-b487-fc8743415ef4",
   "metadata": {},
   "outputs": [],
   "source": [
    "#(c)-2 when the number of base learner is 10 & max_features = \"sqrt\" \n",
    "#Create Random Forest classifer object\n",
    "clf = RandomForestClassifier(n_estimators=10, max_features=\"sqrt\", random_state=0)\n",
    "#Train Random Forest Classifer\n",
    "clf.fit(spam_training_data,spam_training_target)\n",
    "#Predict the reponse for test dataset\n",
    "spam_test_target_predict=clf.predict(spam_test_data)"
   ]
  },
  {
   "cell_type": "code",
   "execution_count": 130,
   "id": "9c531ba5-832e-4698-a049-a6aaaa4edd38",
   "metadata": {},
   "outputs": [
    {
     "data": {
      "text/plain": [
       "0.932"
      ]
     },
     "execution_count": 130,
     "metadata": {},
     "output_type": "execute_result"
    }
   ],
   "source": [
    "#Classification accuracy\n",
    "accuracy_score(spam_test_target,spam_test_target_predict)"
   ]
  },
  {
   "cell_type": "code",
   "execution_count": 131,
   "id": "d4d2c2bf-0180-4c28-9d08-19cbdb354a53",
   "metadata": {},
   "outputs": [
    {
     "data": {
      "text/plain": [
       "'              precision    recall  f1-score   support\\n\\n         ham       0.92      0.97      0.94       584\\n        spam       0.96      0.88      0.91       416\\n\\n    accuracy                           0.93      1000\\n   macro avg       0.94      0.92      0.93      1000\\nweighted avg       0.93      0.93      0.93      1000\\n'"
      ]
     },
     "execution_count": 131,
     "metadata": {},
     "output_type": "execute_result"
    }
   ],
   "source": [
    "#Per class classification accuracy\n",
    "classification_report(spam_test_target, spam_test_target_predict)"
   ]
  },
  {
   "cell_type": "code",
   "execution_count": 132,
   "id": "6d003c9b-976b-40e0-91f1-85e2530b4b31",
   "metadata": {},
   "outputs": [
    {
     "data": {
      "text/plain": [
       "array([[567,  17],\n",
       "       [ 51, 365]], dtype=int64)"
      ]
     },
     "execution_count": 132,
     "metadata": {},
     "output_type": "execute_result"
    }
   ],
   "source": [
    "#Confusion Matrix\n",
    "confusion_matrix(spam_test_target,spam_test_target_predict)"
   ]
  },
  {
   "cell_type": "code",
   "execution_count": 139,
   "id": "e767e5d3-4096-4f6d-8eba-7fd333faa681",
   "metadata": {},
   "outputs": [],
   "source": [
    "#(d)-1 when the number of base learner is 40 & max_features = \"auto/none\" \n",
    "#Create Random Forest classifer object\n",
    "clf = RandomForestClassifier(n_estimators=40, random_state=0)\n",
    "#Train Random Forest Classifer\n",
    "clf.fit(spam_training_data,spam_training_target)\n",
    "#Predict the reponse for test dataset\n",
    "spam_test_target_predict=clf.predict(spam_test_data)"
   ]
  },
  {
   "cell_type": "code",
   "execution_count": 140,
   "id": "f153f6cb-9e0f-46cf-a10a-142bedfdea0b",
   "metadata": {},
   "outputs": [
    {
     "data": {
      "text/plain": [
       "0.944"
      ]
     },
     "execution_count": 140,
     "metadata": {},
     "output_type": "execute_result"
    }
   ],
   "source": [
    "#Classification accuracy\n",
    "accuracy_score(spam_test_target,spam_test_target_predict)"
   ]
  },
  {
   "cell_type": "code",
   "execution_count": 141,
   "id": "ed2988f3-6a94-4eef-b9d2-f30b5fd5504e",
   "metadata": {},
   "outputs": [
    {
     "data": {
      "text/plain": [
       "'              precision    recall  f1-score   support\\n\\n         ham       0.93      0.97      0.95       584\\n        spam       0.96      0.90      0.93       416\\n\\n    accuracy                           0.94      1000\\n   macro avg       0.95      0.94      0.94      1000\\nweighted avg       0.94      0.94      0.94      1000\\n'"
      ]
     },
     "execution_count": 141,
     "metadata": {},
     "output_type": "execute_result"
    }
   ],
   "source": [
    "#Per class classification accuracy\n",
    "classification_report(spam_test_target, spam_test_target_predict)"
   ]
  },
  {
   "cell_type": "code",
   "execution_count": 142,
   "id": "9ae7c834-b7b2-4518-a123-4e507d577847",
   "metadata": {},
   "outputs": [
    {
     "data": {
      "text/plain": [
       "array([[569,  15],\n",
       "       [ 41, 375]], dtype=int64)"
      ]
     },
     "execution_count": 142,
     "metadata": {},
     "output_type": "execute_result"
    }
   ],
   "source": [
    "#Confusion Matrix\n",
    "confusion_matrix(spam_test_target,spam_test_target_predict)"
   ]
  },
  {
   "cell_type": "code",
   "execution_count": 143,
   "id": "5386253c-b31b-4693-8267-0b819bf01bb1",
   "metadata": {},
   "outputs": [],
   "source": [
    "#(d)-1 when the number of base learner is 40 & max_features = \"sqrt\" \n",
    "#Create Random Forest classifer object\n",
    "clf = RandomForestClassifier(n_estimators=40, max_features=\"sqrt\", random_state=0)\n",
    "#Train Random Forest Classifer\n",
    "clf.fit(spam_training_data,spam_training_target)\n",
    "#Predict the reponse for test dataset\n",
    "spam_test_target_predict=clf.predict(spam_test_data)"
   ]
  },
  {
   "cell_type": "code",
   "execution_count": 144,
   "id": "30b09316-c6e3-4e74-bdd7-b84aa0201b94",
   "metadata": {},
   "outputs": [
    {
     "data": {
      "text/plain": [
       "0.944"
      ]
     },
     "execution_count": 144,
     "metadata": {},
     "output_type": "execute_result"
    }
   ],
   "source": [
    "#Classification accuracy\n",
    "accuracy_score(spam_test_target,spam_test_target_predict)"
   ]
  },
  {
   "cell_type": "code",
   "execution_count": 145,
   "id": "3289f8af-f47e-42df-b44b-3d44075970df",
   "metadata": {},
   "outputs": [
    {
     "data": {
      "text/plain": [
       "'              precision    recall  f1-score   support\\n\\n         ham       0.93      0.97      0.95       584\\n        spam       0.96      0.90      0.93       416\\n\\n    accuracy                           0.94      1000\\n   macro avg       0.95      0.94      0.94      1000\\nweighted avg       0.94      0.94      0.94      1000\\n'"
      ]
     },
     "execution_count": 145,
     "metadata": {},
     "output_type": "execute_result"
    }
   ],
   "source": [
    "#Per class classification accuracy\n",
    "classification_report(spam_test_target, spam_test_target_predict)"
   ]
  },
  {
   "cell_type": "code",
   "execution_count": 146,
   "id": "099cce1f-e66f-4de2-b221-a504e2b1bf5c",
   "metadata": {},
   "outputs": [
    {
     "data": {
      "text/plain": [
       "array([[569,  15],\n",
       "       [ 41, 375]], dtype=int64)"
      ]
     },
     "execution_count": 146,
     "metadata": {},
     "output_type": "execute_result"
    }
   ],
   "source": [
    "#Confusion Matrix\n",
    "confusion_matrix(spam_test_target,spam_test_target_predict)"
   ]
  },
  {
   "cell_type": "code",
   "execution_count": null,
   "id": "b7ae5f51-f861-41ce-a699-2f37268f6637",
   "metadata": {},
   "outputs": [],
   "source": []
  }
 ],
 "metadata": {
  "kernelspec": {
   "display_name": "Python 3 (ipykernel)",
   "language": "python",
   "name": "python3"
  },
  "language_info": {
   "codemirror_mode": {
    "name": "ipython",
    "version": 3
   },
   "file_extension": ".py",
   "mimetype": "text/x-python",
   "name": "python",
   "nbconvert_exporter": "python",
   "pygments_lexer": "ipython3",
   "version": "3.9.12"
  }
 },
 "nbformat": 4,
 "nbformat_minor": 5
}
